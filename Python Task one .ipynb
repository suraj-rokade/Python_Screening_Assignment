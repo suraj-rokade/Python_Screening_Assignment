{
 "cells": [
  {
   "cell_type": "code",
   "execution_count": 2,
   "metadata": {},
   "outputs": [
    {
     "name": "stdout",
     "output_type": "stream",
     "text": [
      "replace sucessfully \n"
     ]
    }
   ],
   "source": [
    "try:\n",
    "    txtfile = open('example.txt','r')\n",
    "    filedata = txtfile.read()\n",
    "    txtfile.close()\n",
    "    replacedata=filedata.replace(\"Sceening\",\"placement\")\n",
    "    txtfile=open('example.txt','w')\n",
    "    txtfile.write(replacedata)\n",
    "    txtfile.close()\n",
    "except Exception as e:\n",
    "    print(e)\n",
    "else:\n",
    "    print('replace sucessfully ')"
   ]
  },
  {
   "cell_type": "code",
   "execution_count": null,
   "metadata": {},
   "outputs": [],
   "source": []
  }
 ],
 "metadata": {
  "kernelspec": {
   "display_name": "Python 3",
   "language": "python",
   "name": "python3"
  },
  "language_info": {
   "codemirror_mode": {
    "name": "ipython",
    "version": 3
   },
   "file_extension": ".py",
   "mimetype": "text/x-python",
   "name": "python",
   "nbconvert_exporter": "python",
   "pygments_lexer": "ipython3",
   "version": "3.7.4"
  }
 },
 "nbformat": 4,
 "nbformat_minor": 2
}
